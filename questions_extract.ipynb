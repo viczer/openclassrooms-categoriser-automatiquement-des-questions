{
 "cells": [
  {
   "cell_type": "markdown",
   "metadata": {},
   "source": [
    "#  Search Engine Based on StackOverflow Questions "
   ]
  },
  {
   "cell_type": "markdown",
   "metadata": {},
   "source": [
    "<h3> Saving the title and text into dataframe and then into csv </h3>"
   ]
  },
  {
   "cell_type": "code",
   "execution_count": 3,
   "metadata": {
    "colab": {},
    "colab_type": "code",
    "id": "Xgi78b0TyfOn"
   },
   "outputs": [],
   "source": [
    "\n",
    "import pandas as pd\n",
    "import numpy as np\n",
    "import IPython.display\n",
    "df= pd.read_csv('df_14ans.csv', usecols=['Id','Title', 'Body'], index_col='Id')"
   ]
  },
  {
   "cell_type": "code",
   "execution_count": 4,
   "metadata": {
    "colab": {
     "base_uri": "https://localhost:8080/",
     "height": 206
    },
    "colab_type": "code",
    "id": "wIzDN43kyfOv",
    "outputId": "d4431ee8-d9cf-412e-c6ae-1881b8ee530d"
   },
   "outputs": [
    {
     "data": {
      "text/html": [
       "<div>\n",
       "<style scoped>\n",
       "    .dataframe tbody tr th:only-of-type {\n",
       "        vertical-align: middle;\n",
       "    }\n",
       "\n",
       "    .dataframe tbody tr th {\n",
       "        vertical-align: top;\n",
       "    }\n",
       "\n",
       "    .dataframe thead th {\n",
       "        text-align: right;\n",
       "    }\n",
       "</style>\n",
       "<table border=\"1\" class=\"dataframe\">\n",
       "  <thead>\n",
       "    <tr style=\"text-align: right;\">\n",
       "      <th></th>\n",
       "      <th>Title</th>\n",
       "      <th>Body</th>\n",
       "    </tr>\n",
       "    <tr>\n",
       "      <th>Id</th>\n",
       "      <th></th>\n",
       "      <th></th>\n",
       "    </tr>\n",
       "  </thead>\n",
       "  <tbody>\n",
       "    <tr>\n",
       "      <th>405165</th>\n",
       "      <td>Please advise on Ruby vs Python, for someone w...</td>\n",
       "      <td>&lt;p&gt;I am a C++ developer, slowly getting into w...</td>\n",
       "    </tr>\n",
       "    <tr>\n",
       "      <th>405548</th>\n",
       "      <td>C# - are all Enum constants?</td>\n",
       "      <td>&lt;p&gt;Are all Enum enumerations constants? Do the...</td>\n",
       "    </tr>\n",
       "    <tr>\n",
       "      <th>405770</th>\n",
       "      <td>Why are compilers so stupid?</td>\n",
       "      <td>&lt;p&gt;I always wonder why compilers can't figure ...</td>\n",
       "    </tr>\n",
       "    <tr>\n",
       "      <th>406016</th>\n",
       "      <td>UI Terminology: Logon vs Login</td>\n",
       "      <td>&lt;p&gt;I am crafting an application and cannot dec...</td>\n",
       "    </tr>\n",
       "    <tr>\n",
       "      <th>406121</th>\n",
       "      <td>Flattening a shallow list in Python</td>\n",
       "      <td>&lt;p&gt;Is there a simple way to flatten a list of ...</td>\n",
       "    </tr>\n",
       "  </tbody>\n",
       "</table>\n",
       "</div>"
      ],
      "text/plain": [
       "                                                    Title  \\\n",
       "Id                                                          \n",
       "405165  Please advise on Ruby vs Python, for someone w...   \n",
       "405548                       C# - are all Enum constants?   \n",
       "405770                       Why are compilers so stupid?   \n",
       "406016                     UI Terminology: Logon vs Login   \n",
       "406121                Flattening a shallow list in Python   \n",
       "\n",
       "                                                     Body  \n",
       "Id                                                         \n",
       "405165  <p>I am a C++ developer, slowly getting into w...  \n",
       "405548  <p>Are all Enum enumerations constants? Do the...  \n",
       "405770  <p>I always wonder why compilers can't figure ...  \n",
       "406016  <p>I am crafting an application and cannot dec...  \n",
       "406121  <p>Is there a simple way to flatten a list of ...  "
      ]
     },
     "execution_count": 4,
     "metadata": {},
     "output_type": "execute_result"
    }
   ],
   "source": [
    "df.head()"
   ]
  },
  {
   "cell_type": "code",
   "execution_count": 5,
   "metadata": {
    "colab": {},
    "colab_type": "code",
    "id": "PbXZlCcGyfO6"
   },
   "outputs": [],
   "source": [
    "df.to_csv('file1.csv') "
   ]
  }
 ],
 "metadata": {
  "colab": {
   "collapsed_sections": [],
   "name": "questions extract.ipynb",
   "provenance": []
  },
  "kernelspec": {
   "display_name": "Python 3.10.5 64-bit",
   "language": "python",
   "name": "python3"
  },
  "language_info": {
   "codemirror_mode": {
    "name": "ipython",
    "version": 3
   },
   "file_extension": ".py",
   "mimetype": "text/x-python",
   "name": "python",
   "nbconvert_exporter": "python",
   "pygments_lexer": "ipython3",
   "version": "3.10.5"
  },
  "vscode": {
   "interpreter": {
    "hash": "26de051ba29f2982a8de78e945f0abaf191376122a1563185a90213a26c5da77"
   }
  }
 },
 "nbformat": 4,
 "nbformat_minor": 1
}
